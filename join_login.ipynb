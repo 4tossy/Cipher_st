{
 "cells": [
  {
   "cell_type": "markdown",
   "metadata": {},
   "source": [
    "# 회원가입 및 로그인 프로그램"
   ]
  },
  {
   "cell_type": "markdown",
   "metadata": {},
   "source": [
    "#### 따로 DB를 구축하지 않아 회원가입 정보는 해당 파이썬 파일이 위치한 디렉토리에 csv파일 형태로 저장됨.\n",
    "#### 주민번호는 3DES 암호화 모듈을 통해 뒤 6자리만 암호화하여 저장하도록 만들었다.\n",
    "#### 비밀번호는 해시 알고리즘 SHA256을 사용해 암호화하여 저장하도록 만들었다."
   ]
  },
  {
   "cell_type": "markdown",
   "metadata": {},
   "source": [
    "### 모듈 import"
   ]
  },
  {
   "cell_type": "markdown",
   "metadata": {},
   "source": [
    "pycryptodome 모듈외 다른 모듈 설치 필요."
   ]
  },
  {
   "cell_type": "code",
   "execution_count": null,
   "metadata": {},
   "outputs": [],
   "source": [
    "import crypto\n",
    "import sys\n",
    "sys.modules['Crypto'] = crypto\n",
    "from crypto.Cipher import DES3\n",
    "import hashlib\n",
    "from hashlib import sha256\n",
    "import os\n",
    "import pandas as pd\n",
    "import time"
   ]
  },
  {
   "cell_type": "markdown",
   "metadata": {},
   "source": [
    "### class 선언"
   ]
  },
  {
   "cell_type": "markdown",
   "metadata": {},
   "source": [
    "#### myDES : 가입자가 입력한 정보 중 주민번호 뒤 6자리와 비밀번호를 각각 암호화하여 가입정보를 저장.\n",
    "#### Login : read_file() : 가입자 정보가 담긴 파일 가져오기. / login_pw_enc() : 로그인시 입력한 비밀번호 암호화하기. \n",
    "####         / check_info() : 로그인시 아이디와 비밀번호가 가입정보와 맞는지 체크하기 위해 read_file()에서 불러온 데이터에서 아이디와 패스워드만 추출."
   ]
  },
  {
   "cell_type": "code",
   "execution_count": null,
   "metadata": {},
   "outputs": [],
   "source": [
    "class myDES():\n",
    "    def __init__(self, keytext, ivtext):\n",
    "        hash = hashlib.sha256()\n",
    "        hash.update(keytext.encode('utf-8'))\n",
    "        key = hash.digest()\n",
    "        self.key = key[:24]\n",
    "\n",
    "        hash.update(ivtext.encode('utf-8'))\n",
    "        iv = hash.digest()\n",
    "        self.iv = iv[:8]\n",
    "\n",
    "    def code_enc(self, code):\n",
    "        cc = code[-7:-1]\n",
    "        ccc = cc + '##'\n",
    "        des3 = DES3.new(self.key, DES3.MODE_CBC, self.iv)\n",
    "        encmsg = des3.encrypt(ccc.encode())\n",
    "        enctxt = code[0:6] + '-' + str(encmsg)\n",
    "        return enctxt\n",
    "\n",
    "    def pw_enc(self, pw):\n",
    "        sha = sha256()\n",
    "        sha.update(pw.encode('utf-8'))\n",
    "        enc_pw = sha.hexdigest()\n",
    "\n",
    "        return enc_pw\n",
    "\n",
    "    def save_file(self, name, enctxt, Id, enc_pw, save_path):\n",
    "        info_dict = {'이름':name.strip(), '주민번호':enctxt.strip(), '아이디':Id.strip(), '패스워드':enc_pw.strip()}\n",
    "        df = pd.DataFrame([info_dict])\n",
    "        df.to_csv(save_path + '/join_info.csv', index=False, encoding='utf-8-sig')\n",
    "\n",
    "class Login():\n",
    "    def read_file(self, save_path):\n",
    "        df = pd.read_csv(save_path + '/join_info.csv')\n",
    "\n",
    "        return df\n",
    "\n",
    "    def login_pw_enc(self, login_pw):\n",
    "        sha = sha256()\n",
    "        sha.update(login_pw.encode('utf-8'))\n",
    "        login_enc_pw = sha.hexdigest()\n",
    "\n",
    "        return login_enc_pw\n",
    "    \n",
    "    def check_info(self, df):\n",
    "        check_id = df.at[0, '아이디']\n",
    "        check_pw = df.at[0, '패스워드']\n",
    "        \n",
    "        return check_id, check_pw\n",
    "        \n",
    "\n",
    "\n",
    "def Join():\n",
    "    keytext='samsjang'\n",
    "    ivtext='1234'\n",
    "    print('회원가입')\n",
    "    time.sleep(1)\n",
    "    name = input('이름을 입력하세요 : ')\n",
    "    code = input('주민번호를 입력하세요(\"-\"를 제외 숫자만 입력) : ')\n",
    "    Id = input('사용하실 아이디를 입력하세요 : ')\n",
    "    pw = input('사용하실 비밀번호를 입력하세요 : ')\n",
    "    save_path = os.getcwd() # 현재 디렉토리 반환\n",
    "\n",
    "    cipher = myDES(keytext, ivtext)\n",
    "    encmsg = cipher.code_enc(code)\n",
    "    enc_pw = cipher.pw_enc(pw)\n",
    "    cipher.save_file(name, encmsg, Id, enc_pw, save_path)\n",
    "    time.sleep(1)\n",
    "    print('가입이 완료되었습니다.')\n",
    "\n",
    "def Log_in():\n",
    "    save_path = os.getcwd() # 현재 디렉토리 반환\n",
    "    time.sleep(1)\n",
    "    print('로그인')\n",
    "    time.sleep(1)\n",
    "    login_Id = input('아이디를 입력하세요 : ')\n",
    "    login_pw = input('비밀번호를 입력하세요 : ')\n",
    "\n",
    "    LogIn = Login()\n",
    "    df = LogIn.read_file(save_path)\n",
    "    psd = LogIn.login_pw_enc(login_pw)\n",
    "    check_id, check_pw = LogIn.check_info(df)\n",
    "\n",
    "    if login_Id == check_id and psd == check_pw:\n",
    "        print('로그인 성공')\n",
    "    else:\n",
    "        print('로그인 실패')\n",
    "    \n",
    "def main():\n",
    "    join_ask = input('회원이신가요?(y/n) : ')\n",
    "    if join_ask == 'n' or join_ask == 'N':\n",
    "        time.sleep(1)\n",
    "        ask = input('회원가입을 하시겠습니까?(y/n) : ')\n",
    "        if ask == 'y' or ask == 'Y':\n",
    "            Join()\n",
    "            time.sleep(1)\n",
    "            login_ask = input('로그인 하시겠습니까?(y/n) : ')\n",
    "            if login_ask == 'y' or login_ask == 'Y':\n",
    "                Log_in()\n",
    "            else:\n",
    "                exit()\n",
    "        else:\n",
    "            exit()\n",
    "    elif join_ask == 'y' or join_ask == 'Y':\n",
    "        time.sleep(1)\n",
    "        login_ask = input('로그인 하시겠습니까?(y/n) : ')\n",
    "        if login_ask == 'y' or login_ask == 'Y':\n",
    "            Log_in()\n",
    "        else:\n",
    "            exit()\n",
    "        \n",
    "if __name__ == '__main__':\n",
    "    main()\n"
   ]
  }
 ],
 "metadata": {
  "interpreter": {
   "hash": "84fd4506547a714bbf65c9383bfa315dc95f070c99749390df187216e9f3fa33"
  },
  "kernelspec": {
   "display_name": "Python 3.8.5 64-bit ('base': conda)",
   "language": "python",
   "name": "python3"
  },
  "language_info": {
   "codemirror_mode": {
    "name": "ipython",
    "version": 3
   },
   "file_extension": ".py",
   "mimetype": "text/x-python",
   "name": "python",
   "nbconvert_exporter": "python",
   "pygments_lexer": "ipython3",
   "version": "3.8.5"
  },
  "orig_nbformat": 4
 },
 "nbformat": 4,
 "nbformat_minor": 2
}
