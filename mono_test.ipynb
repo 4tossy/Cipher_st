{
 "cells": [
  {
   "cell_type": "markdown",
   "metadata": {},
   "source": [
    "# 모노알파베틱 암호"
   ]
  },
  {
   "cell_type": "markdown",
   "metadata": {},
   "source": [
    "단일 치환 기법의 하나로 알파벳 26자를 각각 규칙 없이 임의의 문자에, 임의의 알파벳에 대칭시켜 암호화한다."
   ]
  },
  {
   "cell_type": "markdown",
   "metadata": {},
   "source": [
    "## 알파벳 테이블 만들기"
   ]
  },
  {
   "cell_type": "code",
   "execution_count": 1,
   "metadata": {},
   "outputs": [
    {
     "name": "stdout",
     "output_type": "stream",
     "text": [
      "['a', 'b', 'c', 'd', 'e', 'f', 'g', 'h', 'i', 'j', 'k', 'l', 'm', 'n', 'o', 'p', 'q', 'r', 's', 't', 'u', 'v', 'w', 'x', 'y', 'z']\n"
     ]
    }
   ],
   "source": [
    "from string import ascii_lowercase\n",
    "\n",
    "alpha_list = list(ascii_lowercase)\n",
    "print(alpha_list)"
   ]
  },
  {
   "cell_type": "markdown",
   "metadata": {},
   "source": [
    "## 중복제거된 키 테이블 만들기"
   ]
  },
  {
   "cell_type": "code",
   "execution_count": 2,
   "metadata": {},
   "outputs": [],
   "source": [
    "def key_tb(msg0):\n",
    "    key = msg0\n",
    "    #key = 'information'\n",
    "    key_lst = []\n",
    "    key_table = []\n",
    "\n",
    "    for i in key:\n",
    "        key_lst.append(i)\n",
    "        for j in key_lst:\n",
    "            if j not in key_table:\n",
    "                key_table.append(j)\n",
    "\n",
    "    #print(key_table)\n",
    "\n",
    "    last_alpha = key_table[-1]\n",
    "    next_alpha = ord(last_alpha )+ 1\n",
    "    for j in alpha_list:\n",
    "        if j == last_alpha:\n",
    "            for k in range(next_alpha, 123, 1):                \n",
    "                key_table.append(chr(k))        \n",
    "                    \n",
    "    #print(key_table)\n",
    "\n",
    "    for x in alpha_list:\n",
    "        if x not in key_table:\n",
    "            key_table.append(x)\n",
    "    #print(key_table)\n",
    "\n",
    "    return key_table"
   ]
  },
  {
   "cell_type": "markdown",
   "metadata": {},
   "source": [
    "## 암호화, 복호화 함수"
   ]
  },
  {
   "cell_type": "code",
   "execution_count": 3,
   "metadata": {},
   "outputs": [],
   "source": [
    "def encrypt(msg1, encbook):\n",
    "    temp = \"\"\n",
    "    for c in msg1:\n",
    "        c = encbook[c]\n",
    "        temp += c\n",
    "\n",
    "    return temp\n",
    "\n",
    "def decrypt(msg2, decbook):\n",
    "    temp = \"\"\n",
    "    for c in msg2:\n",
    "        c = decbook[c]\n",
    "        temp += c\n",
    "            \n",
    "    return temp"
   ]
  },
  {
   "cell_type": "markdown",
   "metadata": {},
   "source": [
    "## 암호화"
   ]
  },
  {
   "cell_type": "code",
   "execution_count": 4,
   "metadata": {},
   "outputs": [
    {
     "name": "stdout",
     "output_type": "stream",
     "text": [
      "key  : information\n",
      "평문  : ilovepython\n",
      "암호화 : uxbkrcqhtbz\n"
     ]
    }
   ],
   "source": [
    "if __name__ == '__main__':\n",
    "    key = input('키 입력 : ')\n",
    "    print(f\"key  : {key}\")\n",
    "    \n",
    "\n",
    "    plaintext = input()\n",
    "    plaintext = plaintext.replace(\" \", \"\").lower()   \n",
    "    print(f\"평문  : {plaintext}\")\n",
    "\n",
    "    encbook = dict(zip(alpha_list, key_tb(key)))\n",
    "    \n",
    "    ciphertext = encrypt(plaintext, encbook)\n",
    "    print(f\"암호화 : {ciphertext}\")\n",
    "    \n",
    "\n",
    "    "
   ]
  },
  {
   "cell_type": "markdown",
   "metadata": {},
   "source": [
    "## 복호화"
   ]
  },
  {
   "cell_type": "code",
   "execution_count": 5,
   "metadata": {},
   "outputs": [
    {
     "name": "stdout",
     "output_type": "stream",
     "text": [
      "key : information\n",
      "암호문 : uxbkrcqhtbz\n",
      "복호화 : ilovepython\n"
     ]
    }
   ],
   "source": [
    "if __name__ == '__main__':\n",
    "    key = input('키 입력 : ')\n",
    "    print(f'key : {key}')\n",
    "\n",
    "    \"\"\"암호문 입력\"\"\"\n",
    "    ciphertext = input()\n",
    "    print(f'암호문 : {ciphertext}')\n",
    "\n",
    "    decbook = dict(zip(key_tb(key), alpha_list))\n",
    "\n",
    "    deciphertext = decrypt(ciphertext, decbook)\n",
    "    print(f\"복호화 : {deciphertext}\")"
   ]
  }
 ],
 "metadata": {
  "interpreter": {
   "hash": "84fd4506547a714bbf65c9383bfa315dc95f070c99749390df187216e9f3fa33"
  },
  "kernelspec": {
   "display_name": "Python 3.8.5 64-bit ('base': conda)",
   "name": "python3"
  },
  "language_info": {
   "codemirror_mode": {
    "name": "ipython",
    "version": 3
   },
   "file_extension": ".py",
   "mimetype": "text/x-python",
   "name": "python",
   "nbconvert_exporter": "python",
   "pygments_lexer": "ipython3",
   "version": "3.8.5"
  },
  "orig_nbformat": 4
 },
 "nbformat": 4,
 "nbformat_minor": 2
}
